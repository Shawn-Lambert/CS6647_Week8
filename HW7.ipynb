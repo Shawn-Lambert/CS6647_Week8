{
 "cells": [
  {
   "cell_type": "code",
   "execution_count": 1,
   "id": "724e3d10",
   "metadata": {},
   "outputs": [
    {
     "name": "stdout",
     "output_type": "stream",
     "text": [
      "Optimization terminated successfully    (Exit mode 0)\n",
      "            Current function value: -2.151657414467269\n",
      "            Iterations: 4\n",
      "            Function evaluations: 17\n",
      "            Gradient evaluations: 4\n",
      "Length: 1.2909944727867015\n",
      "Width: 1.290994455352175\n",
      "Height: 1.2909944180130968\n",
      "Volume: 2.151657414467269\n",
      "Surface Area: 9.999999999713689\n"
     ]
    }
   ],
   "source": [
    "import numpy as np\n",
    "from scipy.optimize import minimize\n",
    "\n",
    "# Define function to calculate volume of box\n",
    "def calcVolume(x):\n",
    "    length = x[0]\n",
    "    width = x[1]\n",
    "    height = x[2]\n",
    "    volume = length * width * height\n",
    "    return volume\n",
    "\n",
    "# Define function to calculate surface area of box\n",
    "def calcSurface(x):\n",
    "    length = x[0]\n",
    "    width = x[1]\n",
    "    height = x[2]\n",
    "    surfaceArea = 2 * length * width + 2 * length * height + 2 * height * width\n",
    "    return surfaceArea\n",
    "\n",
    "# Define objective function for optimization\n",
    "def objective(x):\n",
    "    return -calcVolume(x)\n",
    "\n",
    "# Define constraint for optimization\n",
    "def constraint(x):\n",
    "    return 10 - calcSurface(x)\n",
    "\n",
    "# Load constraints into dictionary form\n",
    "cons = ({'type': 'ineq', 'fun': constraint})\n",
    "\n",
    "# Set initial values for box dimensions\n",
    "lengthGuess = 1\n",
    "widthGuess = 1\n",
    "heightGuess = 1\n",
    "\n",
    "# Load guess values into numpy array\n",
    "x0 = np.array([lengthGuess, widthGuess, heightGuess])\n",
    "\n",
    "# Call solver to minimize the function given the constraints\n",
    "sol = minimize(objective, x0, method = 'SLSQP', constraints = cons, options = {'disp':True})\n",
    "\n",
    "# Retrieve optimized box sizing and volume\n",
    "xOpt = sol.x\n",
    "volumeOpt = -sol.fun\n",
    "\n",
    "# Calculate surface area with optimized values to double check\n",
    "surfaceAreaOpt = calcSurface(xOpt)\n",
    "\n",
    "# Print results\n",
    "print('Length: ' + str(xOpt[0]))\n",
    "print('Width: ' + str(xOpt[1]))\n",
    "print('Height: ' + str(xOpt[2]))\n",
    "print('Volume: ' + str(volumeOpt))\n",
    "print('Surface Area: ' + str(surfaceAreaOpt))\n"
   ]
  },
  {
   "cell_type": "code",
   "execution_count": null,
   "id": "bfadf57b",
   "metadata": {},
   "outputs": [],
   "source": []
  }
 ],
 "metadata": {
  "kernelspec": {
   "display_name": "Python 3 (ipykernel)",
   "language": "python",
   "name": "python3"
  },
  "language_info": {
   "codemirror_mode": {
    "name": "ipython",
    "version": 3
   },
   "file_extension": ".py",
   "mimetype": "text/x-python",
   "name": "python",
   "nbconvert_exporter": "python",
   "pygments_lexer": "ipython3",
   "version": "3.9.7"
  }
 },
 "nbformat": 4,
 "nbformat_minor": 5
}
